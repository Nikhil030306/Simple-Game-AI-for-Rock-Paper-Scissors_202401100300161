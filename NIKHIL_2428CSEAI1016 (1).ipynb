{
  "nbformat": 4,
  "nbformat_minor": 0,
  "metadata": {
    "colab": {
      "provenance": []
    },
    "kernelspec": {
      "name": "python3",
      "display_name": "Python 3"
    },
    "language_info": {
      "name": "python"
    }
  },
  "cells": [
    {
      "cell_type": "code",
      "execution_count": 4,
      "metadata": {
        "colab": {
          "base_uri": "https://localhost:8080/"
        },
        "id": "TQ2_qEY8g8G-",
        "outputId": "40b0eae5-19e6-476d-a969-e76aec670d6f"
      },
      "outputs": [
        {
          "name": "stdout",
          "output_type": "stream",
          "text": [
            "Enter your choice (rock, paper, or scissors): rock\n",
            "You chose: rock\n",
            "Computer chose: scissors\n",
            "You win!\n",
            "Play again? (yes/no): yes\n",
            "Enter your choice (rock, paper, or scissors): paper\n",
            "You chose: paper\n",
            "Computer chose: paper\n",
            "It's a tie!\n",
            "Play again? (yes/no): yes\n",
            "Enter your choice (rock, paper, or scissors): scissors\n",
            "You chose: scissors\n",
            "Computer chose: paper\n",
            "You win!\n",
            "Play again? (yes/no): yes\n",
            "Enter your choice (rock, paper, or scissors): stone\n",
            "Invalid choice. Please enter rock, paper, or scissors.\n",
            "Enter your choice (rock, paper, or scissors): rock\n",
            "You chose: rock\n",
            "Computer chose: paper\n",
            "Computer wins!\n",
            "Play again? (yes/no): no\n"
          ]
        }
      ],
      "source": [
        "import random\n",
        "\n",
        "choices = [\"rock\", \"paper\", \"scissors\"]  # List of possible choices\n",
        "\n",
        "while True:  # Main game loop\n",
        "    user_choice = input(\"Enter your choice (rock, paper, or scissors): \").lower()  # Get user's input and convert to lowercase\n",
        "    if user_choice not in choices:  # Validate user's input\n",
        "        print(\"Invalid choice. Please enter rock, paper, or scissors.\")\n",
        "        continue  # Go back to the beginning of the loop if input is invalid\n",
        "\n",
        "    computer_choice = random.choice(choices)  # Computer randomly selects a choice\n",
        "    print(f\"You chose: {user_choice}\")  # Print user's choice\n",
        "    print(f\"Computer chose: {computer_choice}\")  # Print computer's choice\n",
        "\n",
        "    # Determine the winner\n",
        "    if user_choice == computer_choice:\n",
        "        print(\"It's a tie!\")\n",
        "    elif (\n",
        "        (user_choice == \"rock\" and computer_choice == \"scissors\")\n",
        "        or (user_choice == \"paper\" and computer_choice == \"rock\")\n",
        "        or (user_choice == \"scissors\" and computer_choice == \"paper\")\n",
        "    ):\n",
        "        print(\"You win!\")\n",
        "    else:\n",
        "        print(\"Computer wins!\")\n",
        "\n",
        "    play_again = input(\"Play again? (yes/no): \").lower()  # Ask if the user wants to play again\n",
        "    if play_again != \"yes\":  # If the user doesn't want to play again, break the loop\n",
        "        break"
      ]
    }
  ]
}